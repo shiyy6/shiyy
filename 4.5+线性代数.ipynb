{
 "cells": [
  {
   "cell_type": "code",
   "execution_count": 3,
   "metadata": {},
   "outputs": [
    {
     "data": {
      "text/plain": [
       "array([[1., 2., 3.],\n",
       "       [4., 5., 6.]])"
      ]
     },
     "execution_count": 3,
     "metadata": {},
     "output_type": "execute_result"
    }
   ],
   "source": [
    "import numpy as np\n",
    "x = np.array([[1.,2.,3.],[4.,5.,6.]])\n",
    "y = np.array([[6.,23.],[-1,7],[8,9]])\n",
    "x"
   ]
  },
  {
   "cell_type": "code",
   "execution_count": 4,
   "metadata": {},
   "outputs": [
    {
     "data": {
      "text/plain": [
       "array([[ 6., 23.],\n",
       "       [-1.,  7.],\n",
       "       [ 8.,  9.]])"
      ]
     },
     "execution_count": 4,
     "metadata": {},
     "output_type": "execute_result"
    }
   ],
   "source": [
    "y"
   ]
  },
  {
   "cell_type": "code",
   "execution_count": 5,
   "metadata": {},
   "outputs": [
    {
     "data": {
      "text/plain": [
       "array([[ 28.,  64.],\n",
       "       [ 67., 181.]])"
      ]
     },
     "execution_count": 5,
     "metadata": {},
     "output_type": "execute_result"
    }
   ],
   "source": [
    "x.dot(y)"
   ]
  },
  {
   "cell_type": "code",
   "execution_count": 6,
   "metadata": {},
   "outputs": [
    {
     "data": {
      "text/plain": [
       "array([[ 28.,  64.],\n",
       "       [ 67., 181.]])"
      ]
     },
     "execution_count": 6,
     "metadata": {},
     "output_type": "execute_result"
    }
   ],
   "source": [
    "np.dot(x,y)"
   ]
  },
  {
   "cell_type": "code",
   "execution_count": 7,
   "metadata": {},
   "outputs": [
    {
     "data": {
      "text/plain": [
       "array([ 6., 15.])"
      ]
     },
     "execution_count": 7,
     "metadata": {},
     "output_type": "execute_result"
    }
   ],
   "source": [
    "np.dot(x,np.ones(3))"
   ]
  },
  {
   "cell_type": "code",
   "execution_count": 8,
   "metadata": {},
   "outputs": [
    {
     "data": {
      "text/plain": [
       "array([1., 1., 1.])"
      ]
     },
     "execution_count": 8,
     "metadata": {},
     "output_type": "execute_result"
    }
   ],
   "source": [
    "np.ones(3)"
   ]
  },
  {
   "cell_type": "code",
   "execution_count": 9,
   "metadata": {},
   "outputs": [
    {
     "data": {
      "text/plain": [
       "array([ 6., 15.])"
      ]
     },
     "execution_count": 9,
     "metadata": {},
     "output_type": "execute_result"
    }
   ],
   "source": [
    "x @ np.ones(3)"
   ]
  },
  {
   "cell_type": "code",
   "execution_count": 16,
   "metadata": {},
   "outputs": [
    {
     "data": {
      "text/plain": [
       "array([[ 3.43168812, -0.34935033, -0.54902406,  0.9993765 ,  0.47333603],\n",
       "       [-0.34935033,  1.00037893,  1.46918867, -1.03291549, -0.68820868],\n",
       "       [-0.54902406,  1.46918867,  4.90576451, -0.24554977, -2.54906889],\n",
       "       [ 0.9993765 , -1.03291549, -0.24554977, 10.77575104, -2.54094436],\n",
       "       [ 0.47333603, -0.68820868, -2.54906889, -2.54094436,  2.68345954]])"
      ]
     },
     "execution_count": 16,
     "metadata": {},
     "output_type": "execute_result"
    }
   ],
   "source": [
    "from numpy.linalg import inv,qr\n",
    "X = np.random.randn(5,5)\n",
    "mat = X.T.dot(X)\n",
    "mat"
   ]
  },
  {
   "cell_type": "code",
   "execution_count": 17,
   "metadata": {},
   "outputs": [
    {
     "data": {
      "text/plain": [
       "array([[ 3.31285638e-01, -1.34353566e-03, -7.26227156e-02,\n",
       "        -8.06409849e-02, -2.04124047e-01],\n",
       "       [-1.34353566e-03,  2.28870716e+00, -3.90898858e-01,\n",
       "         3.36682318e-01,  5.34685533e-01],\n",
       "       [-7.26227156e-02, -3.90898858e-01,  6.92740787e-01,\n",
       "         1.53982223e-01,  7.16410731e-01],\n",
       "       [-8.06409849e-02,  3.36682318e-01,  1.53982223e-01,\n",
       "         2.50112037e-01,  4.83670434e-01],\n",
       "       [-2.04124047e-01,  5.34685533e-01,  7.16410731e-01,\n",
       "         4.83670434e-01,  1.68430133e+00]])"
      ]
     },
     "execution_count": 17,
     "metadata": {},
     "output_type": "execute_result"
    }
   ],
   "source": [
    "inv(mat)"
   ]
  },
  {
   "cell_type": "code",
   "execution_count": 18,
   "metadata": {},
   "outputs": [
    {
     "data": {
      "text/plain": [
       "array([[ 1.00000000e+00,  5.58406281e-17, -1.54630894e-18,\n",
       "         7.86649273e-17,  3.61939161e-17],\n",
       "       [-4.90039473e-17,  1.00000000e+00, -1.75237075e-16,\n",
       "        -3.11551193e-16, -7.51663033e-16],\n",
       "       [-9.02160714e-17, -3.08305623e-16,  1.00000000e+00,\n",
       "         2.71312138e-17, -7.71420589e-16],\n",
       "       [-1.12147179e-17,  4.34631795e-16,  8.77639204e-16,\n",
       "         1.00000000e+00,  1.83122932e-15],\n",
       "       [-4.39952260e-17,  3.98298989e-17,  3.42806899e-16,\n",
       "         1.59602592e-16,  1.00000000e+00]])"
      ]
     },
     "execution_count": 18,
     "metadata": {},
     "output_type": "execute_result"
    }
   ],
   "source": [
    "mat.dot(inv(mat))"
   ]
  },
  {
   "cell_type": "code",
   "execution_count": 21,
   "metadata": {
    "collapsed": true
   },
   "outputs": [],
   "source": [
    "q, r = qr(mat)\n"
   ]
  },
  {
   "cell_type": "code",
   "execution_count": 22,
   "metadata": {},
   "outputs": [
    {
     "data": {
      "text/plain": [
       "array([[-3.66370806,  1.01345123,  1.78581   , -3.68247745, -0.54455369],\n",
       "       [ 0.        , -1.94801982, -4.65453834,  3.7950986 ,  1.67822392],\n",
       "       [ 0.        ,  0.        , -2.86891453, -8.64468316,  3.90694139],\n",
       "       [ 0.        ,  0.        ,  0.        , -4.6909712 ,  1.48995609],\n",
       "       [ 0.        ,  0.        ,  0.        ,  0.        ,  0.5056178 ]])"
      ]
     },
     "execution_count": 22,
     "metadata": {},
     "output_type": "execute_result"
    }
   ],
   "source": [
    "r"
   ]
  }
 ],
 "metadata": {
  "kernelspec": {
   "display_name": "Python 3",
   "language": "python",
   "name": "python3"
  },
  "language_info": {
   "codemirror_mode": {
    "name": "ipython",
    "version": 3
   },
   "file_extension": ".py",
   "mimetype": "text/x-python",
   "name": "python",
   "nbconvert_exporter": "python",
   "pygments_lexer": "ipython3",
   "version": "3.6.3"
  }
 },
 "nbformat": 4,
 "nbformat_minor": 2
}
